{
  "nbformat": 4,
  "nbformat_minor": 0,
  "metadata": {
    "kernelspec": {
      "display_name": "Python 3",
      "language": "python",
      "name": "python3"
    },
    "language_info": {
      "codemirror_mode": {
        "name": "ipython",
        "version": 3
      },
      "file_extension": ".py",
      "mimetype": "text/x-python",
      "name": "python",
      "nbconvert_exporter": "python",
      "pygments_lexer": "ipython3",
      "version": "3.6.7"
    },
    "toc": {
      "base_numbering": 1,
      "nav_menu": {},
      "number_sections": false,
      "sideBar": true,
      "skip_h1_title": true,
      "title_cell": "Course Contents",
      "title_sidebar": "Contents",
      "toc_cell": false,
      "toc_position": {
        "height": "calc(100% - 180px)",
        "left": "10px",
        "top": "150px",
        "width": "209.391px"
      },
      "toc_section_display": true,
      "toc_window_display": false
    },
    "colab": {
      "name": "WS1920_EEMP_exam_PT1.ipynb",
      "provenance": []
    }
  },
  "cells": [
    {
      "cell_type": "markdown",
      "metadata": {
        "id": "iQOimZ3zuu8S"
      },
      "source": [
        "# 1253BMEE00 FA MP MB Econometric Evaluation of Management Practices\n",
        "## Examiner: Prof. Dr. Dirk Sliwka\n",
        "## Date: 02.12.2019"
      ]
    },
    {
      "cell_type": "markdown",
      "metadata": {
        "id": "p_udfBIcuu8T"
      },
      "source": [
        "## Instructions:\n",
        "\n",
        "Please follow the instructions below, such that we will be able to correctly identify your solutions to the exam.\n",
        "\n",
        "**1. Please take a copy of this jupyter notebook and save it as a separate file in the following format:**\n",
        "\n",
        "*WS1920_EEMP_exam_PT1_matriculationnumber_initials.ipynb*\n",
        "\n",
        "- i.e., the final file name should look like this: *WS1920_EEMP_exam_PT1_1234567_MM.ipynb*\n",
        "\n",
        "**2. Please also enter your matriculation number and your initials in the following cell:**"
      ]
    },
    {
      "cell_type": "markdown",
      "metadata": {
        "id": "C9Ie4UY6uu8U"
      },
      "source": [
        "### Matriculation number:\n",
        "### Initials:"
      ]
    },
    {
      "cell_type": "markdown",
      "metadata": {
        "id": "M_462_Q6uu8U"
      },
      "source": [
        "## Background information\n",
        "\n",
        "The datasets provided on the memory sticks contain data from a study by Bloom et al. (2015): *Does Working from Home Work? Evidence from a Chinese Experiment*, where the authors evaluate the performance effect of giving Chinese call-center employees the opportunity to work from home. To do this, they first asked the employees whether they would generally be willing to work from home. Of those employees who volunteered to work from home, they **<u>randomly</u>** chose a **subgroup** which was actually given the **opportunity to work from home** (**treatment group**). Those employees who **volunteered**, but were **not given the opportunity to work from home**, serve as the **control group**."
      ]
    },
    {
      "cell_type": "markdown",
      "metadata": {
        "id": "yvUqm57iuu8U"
      },
      "source": [
        "The code cell below imports the standard module *pandas*. It also imports the two datasets relevant for this exam, provided that the specified paths are correct (this depends on where you saved the files on your laptop). Please execute this cell before you start your work."
      ]
    },
    {
      "cell_type": "code",
      "metadata": {
        "scrolled": true,
        "id": "v18S60nsuu8U"
      },
      "source": [
        "import pandas as pd\n",
        "\n",
        "path_data_task1 = 'https://raw.githubusercontent.com/armoutihansen/EEMP2021/main/datasets/data_task1.csv'\n",
        "df1 = pd.read_csv(path_data_task1)\n",
        "\n",
        "path_data_task2 = 'https://raw.githubusercontent.com/armoutihansen/EEMP2021/main/datasets/data_task2.csv'\n",
        "df2 = pd.read_csv(path_data_task2)"
      ],
      "execution_count": null,
      "outputs": []
    },
    {
      "cell_type": "code",
      "metadata": {
        "scrolled": true,
        "id": "zKoe2mYwuu8V"
      },
      "source": [
        "# further imports\n",
        "import pandas as pd\n",
        "import numpy as np\n",
        "import statsmodels.api as sm\n",
        "import statsmodels.formula.api as smf\n",
        "import seaborn as sns\n",
        "from statsmodels.iolib.summary2 import summary_col\n",
        "import matplotlib.pyplot as plt"
      ],
      "execution_count": null,
      "outputs": []
    },
    {
      "cell_type": "markdown",
      "metadata": {
        "id": "KoMBCyCTuu8W"
      },
      "source": [
        "*Good luck!*"
      ]
    },
    {
      "cell_type": "markdown",
      "metadata": {
        "id": "1c0p1Qb0uu8W"
      },
      "source": [
        "## Assignment 1 (30 points)"
      ]
    },
    {
      "cell_type": "markdown",
      "metadata": {
        "id": "3fDEJA25uu8W"
      },
      "source": [
        "The dataset *data_task1.csv* contains the following variables from the experimental period (that is the time frame in which the treatment group worked from home):\n",
        "- *personid*: individual employee identifier\n",
        "- *calllength*: performance measure, indicating the weekly sum of minutes on the phone\n",
        "- *treatment*: treatment dummy, indicating whether the employee was part of the treatment group\n",
        "- *commute120*: commuting dummy, indicating whether the employee has to commute more than 120 minutes in total\n",
        "- *year_week*: indicator for year and calender week\n",
        "\n",
        "__a)__ Using *data_task1.csv*, estimate the following OLS regression and show its output using python (remember to cluster the standard errors on the \"personid\" level):\n",
        "\n",
        "**Regression 1**: $$ ln(calllength) = \\alpha + \\beta_{1} * treatment + \\beta_{t} * year\\_week_{t} + \\epsilon $$\n",
        "\n",
        "*Note:* To account for seasonal variation beta_t reflects the full set of weekly time dummies.\n",
        "\n",
        "\n",
        "Please give a precise verbal interpretation of the coefficient for treatment and its statistical significance.   \n",
        "\n",
        "\n",
        "\n",
        "<div style=\"text-align: right\"> <b>10 points</b> </div>"
      ]
    },
    {
      "cell_type": "code",
      "metadata": {
        "scrolled": true,
        "id": "s3HAi5E4uu8X"
      },
      "source": [
        "# Insert your code here:"
      ],
      "execution_count": null,
      "outputs": []
    },
    {
      "cell_type": "markdown",
      "metadata": {
        "id": "bDrD06V5uu8X"
      },
      "source": [
        "'# Give the verbal answer here:"
      ]
    },
    {
      "cell_type": "markdown",
      "metadata": {
        "id": "G5IppCvLuu8X"
      },
      "source": [
        "__b)__ In a next step, please explore in another regression (Regression 2) whether the size of the treatment effect depends on the commuting distance (remember to cluster the standard errors on the \"personid\" level and as before include the full set of weekly time dummies).\n",
        "\n",
        "\n",
        "Please give a precise verbal interpretation of the results and the respective magnitudes of your estimates. Explain what this means for the effectiveness of the working from home treatment intervention and elaborate on potential reasons. \n",
        "\n",
        "\n",
        "\n",
        "<div style=\"text-align: right\"> <b>10 points</b> </div>"
      ]
    },
    {
      "cell_type": "code",
      "metadata": {
        "scrolled": true,
        "id": "3_IzD9nUuu8X"
      },
      "source": [
        "# Insert your code here:"
      ],
      "execution_count": null,
      "outputs": []
    },
    {
      "cell_type": "markdown",
      "metadata": {
        "id": "0GQLLGdhuu8X"
      },
      "source": [
        "'# Give the verbal answer here:"
      ]
    },
    {
      "cell_type": "markdown",
      "metadata": {
        "id": "9TEAOzz_uu8Y"
      },
      "source": [
        "__c)__ As explained above, the researchers first explored which employees would be willing to work from home and then randomly selected a subgroup amongst these employees who would take part in the treatment. Explain why this is an essential step to estimate the causal effect of the treatment. \n",
        "\n",
        "<div style=\"text-align: right\"> <b>5 points</b> </div>"
      ]
    },
    {
      "cell_type": "markdown",
      "metadata": {
        "id": "tZmTo34uuu8Y"
      },
      "source": [
        "'# Give the verbal answer here:"
      ]
    },
    {
      "cell_type": "markdown",
      "metadata": {
        "id": "M_0dEmuFuu8Y"
      },
      "source": [
        "__d)__ Assume now working from home would not have been randomly assigned, i.e., employees could decide individually whether they want to take part in working from home or not. Which alternative methods could help to estimate the causal effect of the management practice in this case. Please also explain verbally which assumption(s) you would have to impose to give a causal interpretation of the results.\n",
        "\n",
        "<div style=\"text-align: right\"> <b>5 points</b> </div>"
      ]
    },
    {
      "cell_type": "markdown",
      "metadata": {
        "id": "hQsNlIcpuu8Y"
      },
      "source": [
        "'# Give the verbal answer here:"
      ]
    },
    {
      "cell_type": "markdown",
      "metadata": {
        "id": "N4xsXzREuu8Y"
      },
      "source": [
        "## Assignment 2 (30 points)"
      ]
    },
    {
      "cell_type": "markdown",
      "metadata": {
        "id": "G4REaDR3uu8Y"
      },
      "source": [
        "_Your general task in this assignment is to use employee features listed below to predict employees' performance. In the first part of the exercise, you will perform data cleaning. In the second part, you are tasked with (i) finding the optimal Random Forest regressor to predict performance (i.e., model selection) and (ii) estimating the general performance of the selected model (i.e. model assessment)._"
      ]
    },
    {
      "cell_type": "markdown",
      "metadata": {
        "id": "9LYxG-zVuu8Z"
      },
      "source": [
        "The dataset data_task2.csv contains the following variables from a pre-experimental period on a subset of the employees:\n",
        "\n",
        "- *personid*: individual employee identifier\n",
        "- *age*: age in years\n",
        "- *tenure*: tenure in months\n",
        "- *wage*: gross wage\n",
        "- *children*: children dummy, indicating whether the employee has children\n",
        "- *bedroom*: bedroom dummy, indicating whether the employee has a bedroom\n",
        "- *commute*: commuting time in minutes\n",
        "- *men*: gender dummy, indicating whether the employee is male\n",
        "- *married*: marriage dummy, indicating whether the employee is married\n",
        "- *volunteer*: volunteering dummy, indicating whether the employee volunteered for working from home in the experiment\n",
        "- *high_educ*: education dummy, indicating whether the employee has a higher education\n",
        "- *z_performance*: performance measure, which indicates the standardized performance of the employee (i.e. subtracted by the mean and divided by the standard deviation)."
      ]
    },
    {
      "cell_type": "code",
      "metadata": {
        "scrolled": true,
        "id": "Wkjm49YIuu8Z"
      },
      "source": [
        "# Insert your code here:"
      ],
      "execution_count": null,
      "outputs": []
    },
    {
      "cell_type": "markdown",
      "metadata": {
        "id": "z4fU8fzcuu8Z"
      },
      "source": [
        "**a)** Using *data_task2.csv*, remove the 'wage' and 'personid' columns from the dataframe and remove any row that contains missing values (i.e. 'NaN's).\n",
        "<div style=\"text-align: right\"> <b>2 points</b> </div>"
      ]
    },
    {
      "cell_type": "code",
      "metadata": {
        "scrolled": true,
        "id": "vDRESmmWuu8Z"
      },
      "source": [
        "# Insert your code here:"
      ],
      "execution_count": null,
      "outputs": []
    },
    {
      "cell_type": "markdown",
      "metadata": {
        "id": "OqUOKhZDuu8Z"
      },
      "source": [
        "**b)** Define $y$ to be the performance measure and $X$ the remaining variables in the dataframe. Split the data into a training set containing 75% of the observations and a test set containing 25% of the observations. \n",
        "<div style=\"text-align: right\"> <b>2 points</b> </div>"
      ]
    },
    {
      "cell_type": "code",
      "metadata": {
        "scrolled": true,
        "id": "Vi4YJWH2uu8Z"
      },
      "source": [
        "# Insert your code here:"
      ],
      "execution_count": null,
      "outputs": []
    },
    {
      "cell_type": "markdown",
      "metadata": {
        "id": "9L-TIuc4uu8a"
      },
      "source": [
        "_In the following, you wish to apply the Cross Validation (CV) technique on the training set to find the optimal Random Forest regressor that can predict performance based on all the other features._"
      ]
    },
    {
      "cell_type": "markdown",
      "metadata": {
        "id": "-rIitdksuu8a"
      },
      "source": [
        "__c)__ Before you perform the model selection, please state and justify your choice of (i) number of folds in the Cross Validation (CV), (ii) hyperparameters, and (iii) parameter grid (i.e. the dictionary containing the hyper parameter candidates).\n",
        "<div style=\"text-align: right\"> <b>6 points</b> </div>"
      ]
    },
    {
      "cell_type": "markdown",
      "metadata": {
        "id": "LKK7MXyVuu8a"
      },
      "source": [
        "'# Give the verbal answer here:"
      ]
    },
    {
      "cell_type": "markdown",
      "metadata": {
        "id": "8AqwVPsyuu8a"
      },
      "source": [
        "__d)__ Based on your answer in c), perform the model selection and print the optimal Random Forest regressor. Remember to use random search in the CV procedure and use a low number of iteration (e.g., 2 or 3) to make sure that you can run the procedure in time.\n",
        "<div style=\"text-align: right\"> <b>8 points</b> </div>"
      ]
    },
    {
      "cell_type": "code",
      "metadata": {
        "scrolled": true,
        "id": "Hij8P1VCuu8a"
      },
      "source": [
        "# Insert your code here:"
      ],
      "execution_count": null,
      "outputs": []
    },
    {
      "cell_type": "markdown",
      "metadata": {
        "id": "Y_wt6e-Fuu8a"
      },
      "source": [
        "**e)** Print out the feature importance of all the features of the optimal Random Forest regressor you found in d). Which three features are most predictive of performance? Provide a potential reason for this.\n",
        "<div style=\"text-align: right\"> <b>8 points</b> </div>"
      ]
    },
    {
      "cell_type": "code",
      "metadata": {
        "scrolled": true,
        "id": "KpKnBQo0uu8b"
      },
      "source": [
        "# Insert your code here:"
      ],
      "execution_count": null,
      "outputs": []
    },
    {
      "cell_type": "markdown",
      "metadata": {
        "id": "pX9UfQIyuu8b"
      },
      "source": [
        "'# Give the verbal answer here:"
      ]
    },
    {
      "cell_type": "markdown",
      "metadata": {
        "id": "nKej0xuUuu8b"
      },
      "source": [
        "**f)** Now get an unbiased estimate of the expected squared error of the optimal Random Forest regressor you found in d). Explain why this estimate is better than calculating the mean squared error on the training set.\n",
        "<div style=\"text-align: right\"> <b>4 points</b> </div>"
      ]
    },
    {
      "cell_type": "code",
      "metadata": {
        "scrolled": true,
        "id": "1orqBQLvuu8b"
      },
      "source": [
        "# Insert your code here:"
      ],
      "execution_count": null,
      "outputs": []
    },
    {
      "cell_type": "markdown",
      "metadata": {
        "id": "fk7nzJQpuu8b"
      },
      "source": [
        "'# Give the verbal answer here:"
      ]
    }
  ]
}